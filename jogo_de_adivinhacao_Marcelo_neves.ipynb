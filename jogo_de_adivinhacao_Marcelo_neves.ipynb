{
  "nbformat": 4,
  "nbformat_minor": 0,
  "metadata": {
    "colab": {
      "provenance": []
    },
    "kernelspec": {
      "name": "python3",
      "display_name": "Python 3"
    },
    "language_info": {
      "name": "python"
    }
  },
  "cells": [
    {
      "cell_type": "code",
      "execution_count": null,
      "metadata": {
        "id": "ZsYJp3JqAf_x"
      },
      "outputs": [],
      "source": [
        "# Importa o módulo random\n",
        "import random\n",
        "\n",
        "# Define o número mínimo e máximo do intervalo\n",
        "numero_min = int(input('Qual o número inicial do intervalo?\\n'))\n",
        "numero_max = int(input('Qual o número final do intervalo?\\n'))\n",
        "\n",
        "# Define o número de tentativas\n",
        "tentativas = int(input('Quantas tentativas para acertar?\\n'))\n",
        "\n",
        "# Gera um número aleatório dentro do intervalo\n",
        "num_sorteado = random.randint(numero_min, numero_max)\n",
        "\n",
        "# Loop principal do jogo\n",
        "while True:\n",
        "\n",
        "    # Pede ao usuário para digitar um número\n",
        "    tentativa = int(input(f'Digite um número entre {numero_min} e {numero_max}.\\n'))\n",
        "\n",
        "    # Verifica se o número digitado é igual ao número sorteado\n",
        "    if tentativa == num_sorteado:\n",
        "\n",
        "        # Exibe a mensagem de vitória e sai do loop\n",
        "        print('PARABÉNS VOCÊ ACERTOU!')\n",
        "        break\n",
        "\n",
        "    # Se o número digitado não for igual ao número sorteado\n",
        "    else:\n",
        "\n",
        "        # Decrementa o número de tentativas\n",
        "        tentativas -= 1\n",
        "\n",
        "        # Verifica se o número de tentativas chegou a zero\n",
        "        if tentativas == 0:\n",
        "\n",
        "            # Exibe a mensagem de derrota e sai do loop\n",
        "            print(f\"VOCÊ PERDEU!! O NUMERO ERA {num_sorteado}\")\n",
        "            break\n",
        "\n",
        "        # Se o número de tentativas ainda não chegou a zero\n",
        "        else:\n",
        "\n",
        "            # Exibe a mensagem de erro e pede ao usuário para tentar novamente\n",
        "            print(f'NÚMERO ERRADO! TENTE NOVAMENTE! VOCÊ AINDA TEM {tentativas}.')"
      ]
    }
  ]
}