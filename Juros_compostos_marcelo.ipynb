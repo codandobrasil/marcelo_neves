{
  "nbformat": 4,
  "nbformat_minor": 0,
  "metadata": {
    "colab": {
      "provenance": []
    },
    "kernelspec": {
      "name": "python3",
      "display_name": "Python 3"
    },
    "language_info": {
      "name": "python"
    }
  },
  "cells": [
    {
      "cell_type": "markdown",
      "source": [
        "Para este pequeno projeto precisamos dos seguintes dados:\n",
        "1. Qual o capital investido (C);\n",
        "2. A taxa de juros, que é a porcentagem cobrada em cima do capital, usaremos a taxado ano (i);\n",
        "3. O tempo em meses que o capital ficará aplicado (t);\n",
        "4. Os juros do rendimento(J), calculado pela subtração do valor final do capital investido;\n",
        "5. Montante final após o término do investimento M = C*(1+1)^t"
      ],
      "metadata": {
        "id": "UyoXE-HpkWyk"
      }
    },
    {
      "cell_type": "code",
      "execution_count": null,
      "metadata": {
        "id": "u8KAk6rLMInV"
      },
      "outputs": [],
      "source": [
        "from math import pow\n",
        "\n",
        "def composto(capital, juros, tempo):\n",
        " return capital * pow((1 + juros), tempo)\n",
        "def simples(capital, juros, tempo):\n",
        "  return capital * juros * tempo\n",
        "capital = float(input('Qual o capital de investimento?'))\n",
        "juros = float(input('Qual o juro anual em percentagem (%)?'))\n",
        "tempo = int(input('De quantos meses será o investimento?'))\n",
        "\n",
        "juros = juros / 100 # 5% 5 / 100\n",
        "tempo = tempo / 12\n",
        "\n",
        "valor_final_composto = composto(capital, juros, tempo)\n",
        "valor_final_simples = simples(capital,juros,tempo)\n",
        "print(f'O montante final será de: {valor_final_composto:.02f} R$')\n",
        "print(f'Os juros do rendimento foram de: {(valor_final_composto - capital):.02f} R$')\n",
        "print(f'Os juros simples foram: {(valor_final_simples + capital):.02f} R$')"
      ]
    },
    {
      "cell_type": "code",
      "source": [],
      "metadata": {
        "id": "2ofHmBy4vxF4"
      },
      "execution_count": null,
      "outputs": []
    }
  ]
}